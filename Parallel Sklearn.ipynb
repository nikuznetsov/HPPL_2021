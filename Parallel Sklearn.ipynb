{
 "cells": [
  {
   "cell_type": "code",
   "execution_count": 1,
   "id": "469e5978",
   "metadata": {},
   "outputs": [
    {
     "name": "stdout",
     "output_type": "stream",
     "text": [
      "Writing parallel_sklearn.py\n"
     ]
    }
   ],
   "source": [
    "%%writefile parallel_sklearn.py\n",
    "\n",
    "# General imports\n",
    "import numpy as np\n",
    "import sklearn\n",
    "import pandas as pd\n",
    "from sklearn.model_selection import train_test_split\n",
    "from sklearn.preprocessing import MinMaxScaler\n",
    "import warnings\n",
    "warnings.filterwarnings('ignore')\n",
    "from mpi4py import MPI\n",
    "\n",
    "from sklearn.model_selection import GridSearchCV\n",
    "\n",
    "comm = MPI.COMM_WORLD\n",
    "rank = comm.Get_rank()\n",
    "size = comm.Get_size()\n",
    "\n",
    "# Regression ############################################\n",
    "\n",
    "# Metrics\n",
    "from sklearn.metrics import r2_score\n",
    "\n",
    "# Datasets\n",
    "df = pd.read_csv('train.csv', sep=';').astype(str)\n",
    "df = df.apply(lambda x: x.str.replace(',','.')).astype(float)\n",
    "X = df[['Day', 'Month', 'Year','SunRad', 'Temp', 'TheorEff1', 'TheorEff2']]\n",
    "y = df[['Eff1', 'Eff2']]\n",
    "df = df.drop(index=df[df.Eff2 == 1.].index)\n",
    "del X['TheorEff1']\n",
    "del y['Eff1']\n",
    "X_train, X_test, y_train, y_test = train_test_split(X, y, test_size=0.3, random_state=42)\n",
    "X_train[X_train.columns] = MinMaxScaler().fit_transform(X_train[X_train.columns])\n",
    "X_test[X_test.columns] = MinMaxScaler().fit_transform(X_test[X_test.columns])\n",
    "\n",
    "# Linear models\n",
    "from sklearn.linear_model import Ridge\n",
    "from sklearn.linear_model import Lasso\n",
    "from sklearn.linear_model import ElasticNet\n",
    "from sklearn.linear_model import LogisticRegression\n",
    "from sklearn.linear_model import LinearRegression\n",
    "from sklearn.linear_model import SGDRegressor\n",
    "\n",
    "# Kernel models\n",
    "from sklearn.svm import SVR\n",
    "from sklearn.svm import NuSVR\n",
    "\n",
    "# KNN\n",
    "from sklearn.neighbors import KNeighborsRegressor\n",
    "\n",
    "# Trees and ensembles\n",
    "from sklearn.tree import DecisionTreeRegressor\n",
    "from sklearn.ensemble import RandomForestRegressor\n",
    "from sklearn.ensemble import AdaBoostRegressor\n",
    "from sklearn.ensemble import GradientBoostingRegressor\n",
    "\n",
    "seed = 42\n",
    "\n",
    "heavy_models = np.array([\n",
    "    [DecisionTreeRegressor(random_state=seed), {\n",
    "        'max_depth':[1, 3, 5],\n",
    "        'min_samples_split':[2,3],\n",
    "        'max_features':['auto', 'log2']}],\n",
    "\n",
    "    [RandomForestRegressor(random_state=seed), {\n",
    "        'n_estimators':[250, 500],\n",
    "        'max_depth':[1, 3],\n",
    "        'min_samples_split':[2,3],\n",
    "        'max_features':['auto', 'log2']}],\n",
    "\n",
    "    [AdaBoostRegressor(random_state=seed), {\n",
    "        'n_estimators':[100, 250, 500],\n",
    "        'loss':['linear', 'square',],\n",
    "        'learning_rate':[1.0, 0.1, 1.5],\n",
    "    }],\n",
    "    [ElasticNet(random_state=seed), {\n",
    "        'alpha':[1.0, 0.1, 1.5],\n",
    "        'l1_ratio':[0.5, 0.25, 0.75],\n",
    "    }],\n",
    "\n",
    "    [Lasso(), {'alpha':[1.0, 0.1, 1.5]}],\n",
    "\n",
    "    [Ridge(), {'alpha':[1.0, 0.1, 1.5]}],\n",
    "])\n",
    "\n",
    "ranked_models = np.array_split(heavy_models, size)\n",
    "        \n",
    "res = []\n",
    "for item in ranked_models[rank]:\n",
    "    model, parameters = item[0], item[1]\n",
    "    reg = GridSearchCV(model, parameters)\n",
    "    reg.fit(X_train, y_train)\n",
    "    y_pred = reg.predict(X_test)\n",
    "    R2 = r2_score(y_test, y_pred)\n",
    "    res.append([R2, reg.best_estimator_])\n",
    "\n",
    "comp = comm.gather(res,root=0)\n",
    "\n",
    "if rank == 0:\n",
    "    sorted_models = []\n",
    "    for item in comp:\n",
    "        for element in item:\n",
    "            sorted_models.append(element)\n",
    "    sorted_models = sorted(sorted_models, reverse=True, key=lambda x: x[0])\n",
    "    for item in sorted_models: print('{:<10.5} {}'.format(item[0], item[1]), end='\\n')"
   ]
  },
  {
   "cell_type": "code",
   "execution_count": 2,
   "id": "c5a46dfb",
   "metadata": {},
   "outputs": [
    {
     "name": "stdout",
     "output_type": "stream",
     "text": [
      "0.28763    Ridge()\n",
      "0.001517   RandomForestRegressor(max_depth=3, n_estimators=500, random_state=42)\n",
      "-0.014861  ElasticNet(random_state=42)\n",
      "-0.014861  Lasso()\n",
      "-0.12794   AdaBoostRegressor(learning_rate=0.1, n_estimators=100, random_state=42)\n",
      "-0.36028   DecisionTreeRegressor(max_depth=3, max_features='auto', random_state=42)\n"
     ]
    }
   ],
   "source": [
    "!mpiexec -n 3 python parallel_sklearn.py"
   ]
  },
  {
   "cell_type": "code",
   "execution_count": 3,
   "id": "afb46f5c",
   "metadata": {},
   "outputs": [
    {
     "name": "stdout",
     "output_type": "stream",
     "text": [
      "0.28763    Ridge()\n",
      "0.001517   RandomForestRegressor(max_depth=3, n_estimators=500, random_state=42)\n",
      "-0.014861  ElasticNet(random_state=42)\n",
      "-0.014861  Lasso()\n",
      "-0.12794   AdaBoostRegressor(learning_rate=0.1, n_estimators=100, random_state=42)\n",
      "-0.36028   DecisionTreeRegressor(max_depth=3, max_features='auto', random_state=42)\n",
      "0.28763    Ridge()\n",
      "0.001517   RandomForestRegressor(max_depth=3, n_estimators=500, random_state=42)\n",
      "-0.014861  ElasticNet(random_state=42)\n",
      "-0.014861  Lasso()\n",
      "-0.12794   AdaBoostRegressor(learning_rate=0.1, n_estimators=100, random_state=42)\n",
      "-0.36028   DecisionTreeRegressor(max_depth=3, max_features='auto', random_state=42)\n",
      "0.28763    Ridge()\n",
      "0.001517   RandomForestRegressor(max_depth=3, n_estimators=500, random_state=42)\n",
      "-0.014861  ElasticNet(random_state=42)\n",
      "-0.014861  Lasso()\n",
      "-0.12794   AdaBoostRegressor(learning_rate=0.1, n_estimators=100, random_state=42)\n",
      "-0.36028   DecisionTreeRegressor(max_depth=3, max_features='auto', random_state=42)\n",
      "0.28763    Ridge()\n",
      "0.001517   RandomForestRegressor(max_depth=3, n_estimators=500, random_state=42)\n",
      "-0.014861  ElasticNet(random_state=42)\n",
      "-0.014861  Lasso()\n",
      "-0.12794   AdaBoostRegressor(learning_rate=0.1, n_estimators=100, random_state=42)\n",
      "-0.36028   DecisionTreeRegressor(max_depth=3, max_features='auto', random_state=42)\n",
      "0.28763    Ridge()\n",
      "0.001517   RandomForestRegressor(max_depth=3, n_estimators=500, random_state=42)\n",
      "-0.014861  ElasticNet(random_state=42)\n",
      "-0.014861  Lasso()\n",
      "-0.12794   AdaBoostRegressor(learning_rate=0.1, n_estimators=100, random_state=42)\n",
      "-0.36028   DecisionTreeRegressor(max_depth=3, max_features='auto', random_state=42)\n",
      "0.28763    Ridge()\n",
      "0.001517   RandomForestRegressor(max_depth=3, n_estimators=500, random_state=42)\n",
      "-0.014861  ElasticNet(random_state=42)\n",
      "-0.014861  Lasso()\n",
      "-0.12794   AdaBoostRegressor(learning_rate=0.1, n_estimators=100, random_state=42)\n",
      "-0.36028   DecisionTreeRegressor(max_depth=3, max_features='auto', random_state=42)\n",
      "0.28763    Ridge()\n",
      "0.001517   RandomForestRegressor(max_depth=3, n_estimators=500, random_state=42)\n",
      "-0.014861  ElasticNet(random_state=42)\n",
      "-0.014861  Lasso()\n",
      "-0.12794   AdaBoostRegressor(learning_rate=0.1, n_estimators=100, random_state=42)\n",
      "-0.36028   DecisionTreeRegressor(max_depth=3, max_features='auto', random_state=42)\n",
      "0.28763    Ridge()\n",
      "0.001517   RandomForestRegressor(max_depth=3, n_estimators=500, random_state=42)\n",
      "-0.014861  ElasticNet(random_state=42)\n",
      "-0.014861  Lasso()\n",
      "-0.12794   AdaBoostRegressor(learning_rate=0.1, n_estimators=100, random_state=42)\n",
      "-0.36028   DecisionTreeRegressor(max_depth=3, max_features='auto', random_state=42)\n",
      "0.28763    Ridge()\n",
      "0.001517   RandomForestRegressor(max_depth=3, n_estimators=500, random_state=42)\n",
      "-0.014861  ElasticNet(random_state=42)\n",
      "-0.014861  Lasso()\n",
      "-0.12794   AdaBoostRegressor(learning_rate=0.1, n_estimators=100, random_state=42)\n",
      "-0.36028   DecisionTreeRegressor(max_depth=3, max_features='auto', random_state=42)\n"
     ]
    }
   ],
   "source": [
    "import time\n",
    "\n",
    "t = []\n",
    "for i in range(1, 10):\n",
    "    t0 = time.time()\n",
    "    !mpiexec -n {i} python parallel_sklearn.py\n",
    "    t1 = time.time() - t0\n",
    "    t.append(t1)"
   ]
  },
  {
   "cell_type": "code",
   "execution_count": 4,
   "id": "2f407be6",
   "metadata": {},
   "outputs": [
    {
     "data": {
      "image/png": "[encoded data removed]",
      "text/plain": [
       "<Figure size 1080x576 with 1 Axes>"
      ]
     },
     "metadata": {
      "needs_background": "light"
     },
     "output_type": "display_data"
    }
   ],
   "source": [
    "import matplotlib.pyplot as plt\n",
    "\n",
    "plt.figure(figsize=(15,8))\n",
    "plt.grid()\n",
    "plt.yticks(fontsize=15)\n",
    "plt.xticks(range(1, 10), fontsize=15)\n",
    "plt.xlabel('Number of processes', fontsize=15)\n",
    "plt.ylabel('Speedup', fontsize=15)\n",
    "plt.plot(range(1, 10), [t[0]/i for i in t], '-o', color='r');"
   ]
  },
  {
   "cell_type": "code",
   "execution_count": null,
   "id": "35eec1c3",
   "metadata": {},
   "outputs": [],
   "source": []
  }
 ],
 "metadata": {
  "kernelspec": {
   "display_name": "Python 3",
   "language": "python",
   "name": "python3"
  },
  "language_info": {
   "codemirror_mode": {
    "name": "ipython",
    "version": 3
   },
   "file_extension": ".py",
   "mimetype": "text/x-python",
   "name": "python",
   "nbconvert_exporter": "python",
   "pygments_lexer": "ipython3",
   "version": "3.8.8"
  }
 },
 "nbformat": 4,
 "nbformat_minor": 5
}
